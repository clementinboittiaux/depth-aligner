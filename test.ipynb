{
 "cells": [
  {
   "cell_type": "code",
   "execution_count": null,
   "id": "0a764bdb-f1bc-46d9-a4a6-314f83851910",
   "metadata": {},
   "outputs": [],
   "source": [
    "import matplotlib\n",
    "import numpy as np\n",
    "import matplotlib.pyplot as plt\n",
    "from mpl_toolkits.mplot3d import Axes3D\n",
    "from scipy.spatial.transform import Rotation\n",
    "\n",
    "dwxdw1 = np.array([\n",
    "    [0, 0, 0],\n",
    "    [0, 0, -1],\n",
    "    [0, 1, 0]\n",
    "], dtype=np.float64)\n",
    "\n",
    "dwxdw2 = np.array([\n",
    "    [0, 0, 1],\n",
    "    [0, 0, 0],\n",
    "    [-1, 0, 0]\n",
    "], dtype=np.float64)\n",
    "\n",
    "def exp(w1, w2, w3):\n",
    "    theta = np.linalg.norm([w1, w2, w3])\n",
    "    if theta < 1e-8:\n",
    "        return np.eye(3)\n",
    "    w1 /= theta\n",
    "    w2 /= theta\n",
    "    w3 /= theta\n",
    "    wx = np.array([\n",
    "        [0, -w3, w2],\n",
    "        [w3, 0, -w1],\n",
    "        [-w2, w1, 0]\n",
    "    ])\n",
    "    return np.eye(3) + wx * np.sin(theta) + (wx @ wx) * (1 - np.cos(theta))\n",
    "\n",
    "def compute_residuals_jacobian(zi, ti, s, w1, w2, d, w3):\n",
    "    R = exp(w1, w2, w3)\n",
    "    ri = zi - (s * (R @ ti)[2] + d)\n",
    "    drids = -(R @ ti)[2]\n",
    "    dridw1 = -s * (dwxdw1 @ R @ ti)[2]\n",
    "    dridw2 = -s * (dwxdw2 @ R @ ti)[2]\n",
    "    Ji = np.array([drids, dridw1, dridw2, -1])\n",
    "    return ri, Ji\n",
    "\n",
    "def optimize(z, t, parameters, w3, n_iter=10):\n",
    "    print('---------------------------------------------')\n",
    "    print('Starting optimization')\n",
    "    print('---------------------------------------------')\n",
    "    for iteration in range(n_iter):\n",
    "        r = []\n",
    "        J = []\n",
    "        for i in range(len(z)):\n",
    "            ri, Ji = compute_residuals_jacobian(z[i], t[i], *parameters, w3)\n",
    "            r.append(ri)\n",
    "            J.append(Ji)\n",
    "        r = np.stack(r)\n",
    "        J = np.stack(J)\n",
    "        parameters -= np.linalg.inv(J.T @ J) @ J.T @ r\n",
    "        # new_t = ((parameters[0] * exp(*parameters[1:3], 0)) @ t.T + parameters[3]).T\n",
    "        print(f'cost: {np.square(r).sum()}')\n",
    "    print(f'Solution: {parameters}')\n",
    "    print(f'Retrieved scale: {1 / parameters[0]}')\n",
    "    return parameters"
   ]
  },
  {
   "cell_type": "code",
   "execution_count": null,
   "id": "4a38a139-bac7-40cb-9e80-98309efe20b4",
   "metadata": {},
   "outputs": [],
   "source": [
    "old_t = np.random.rand(40, 3)\n",
    "z = old_t[:, 2].copy() + np.random.randn(old_t.shape[0]) / 20\n",
    "\n",
    "R_gt = Rotation.random().as_matrix()\n",
    "t_gt = np.random.rand(3, 1)\n",
    "s_gt = 0.78\n",
    "t = (s_gt * R_gt @ old_t.T + t_gt).T\n",
    "\n",
    "cmap = matplotlib.cm.get_cmap('jet')\n",
    "colors = cmap(np.linspace(0, 1, z.size))"
   ]
  },
  {
   "cell_type": "code",
   "execution_count": null,
   "id": "2d28a5ab-c947-4dd8-ba28-2e43674a1d5c",
   "metadata": {},
   "outputs": [],
   "source": [
    "initializations = [np.array([1, 0, 0, 0], dtype=np.float64)]\n",
    "for angle_amplitude in np.linspace(0, np.pi, 4)[1:]:\n",
    "    for angle_direction in ([1, 0], [0, 1], [np.sqrt(0.5), np.sqrt(0.5)]):\n",
    "        initializations.append(np.array([1, *np.array(angle_direction) * angle_amplitude, 0]))\n",
    "\n",
    "for initialization in initializations:\n",
    "    beta = optimize(z, t, initialization, 0, n_iter=100)\n",
    "    if beta[0] > 0:\n",
    "        break\n",
    "    else:\n",
    "        print('---------------------------------------------')\n",
    "        print('Converged to an asymmetric solution (s < 0),\\nrestarting optimization with different initialization...')"
   ]
  },
  {
   "cell_type": "code",
   "execution_count": null,
   "id": "778c3a83-b82a-480a-9d78-9c878ffa358b",
   "metadata": {},
   "outputs": [],
   "source": [
    "beta = np.array([1, 0, 0, 0], dtype=np.float64)\n",
    "\n",
    "for iteration in range(20):\n",
    "    r = []\n",
    "    J = []\n",
    "    for i in range(len(z)):\n",
    "        r.append(compute_residuals(z[i], t[i], *beta))\n",
    "        J.append(compute_jacobian(z[i], t[i], *beta[:-1]))\n",
    "    r = np.stack(r)\n",
    "    J = np.stack(J)\n",
    "    beta -= np.linalg.inv(J.T @ J) @ J.T @ r\n",
    "    new_t = ((beta[0] * exp(*beta[1:3], 0)) @ t.T + beta[3]).T\n",
    "    print(f'cost: {np.square(r).sum()}')"
   ]
  },
  {
   "cell_type": "code",
   "execution_count": null,
   "id": "a5c4991a-f263-426e-af42-2d38135d33fe",
   "metadata": {},
   "outputs": [],
   "source": [
    "1 / beta[0]"
   ]
  },
  {
   "cell_type": "code",
   "execution_count": null,
   "id": "371af393-682d-419d-b101-c5b77e0bec84",
   "metadata": {},
   "outputs": [],
   "source": [
    "%matplotlib qt\n",
    "fig = plt.figure(figsize=(12, 12))\n",
    "ax = fig.add_subplot(111, projection='3d')\n",
    "real_alt = new_t.copy()\n",
    "real_alt[:, 2] = z\n",
    "ax.scatter(*real_alt.T, c=colors)\n",
    "ax.scatter(*new_t.T, c=colors * 0.7)"
   ]
  },
  {
   "cell_type": "code",
   "execution_count": null,
   "id": "120f9db0-c49e-4aff-a8b7-d67e77daa1d0",
   "metadata": {},
   "outputs": [],
   "source": []
  }
 ],
 "metadata": {
  "kernelspec": {
   "display_name": "Python 3 (ipykernel)",
   "language": "python",
   "name": "python3"
  },
  "language_info": {
   "codemirror_mode": {
    "name": "ipython",
    "version": 3
   },
   "file_extension": ".py",
   "mimetype": "text/x-python",
   "name": "python",
   "nbconvert_exporter": "python",
   "pygments_lexer": "ipython3",
   "version": "3.9.11"
  }
 },
 "nbformat": 4,
 "nbformat_minor": 5
}

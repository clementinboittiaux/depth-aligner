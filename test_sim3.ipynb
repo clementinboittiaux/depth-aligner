{
 "cells": [
  {
   "cell_type": "code",
   "execution_count": null,
   "id": "0a764bdb-f1bc-46d9-a4a6-314f83851910",
   "metadata": {},
   "outputs": [],
   "source": [
    "import matplotlib\n",
    "import numpy as np\n",
    "import matplotlib.pyplot as plt\n",
    "from mpl_toolkits.mplot3d import Axes3D\n",
    "from scipy.spatial.transform import Rotation\n",
    "\n",
    "\n",
    "def compute_exp_W(sigma, w):\n",
    "    theta = np.linalg.norm(w)\n",
    "    if theta < 1e-8:\n",
    "        return np.eye(3), np.eye(3)\n",
    "    A = np.exp(sigma) * np.sin(theta)\n",
    "    B = np.exp(sigma) * np.cos(theta)\n",
    "    C = (np.exp(sigma) - 1) / sigma\n",
    "    wx = np.array([\n",
    "        [0, -w[2], w[1]],\n",
    "        [w[2], 0, -w[0]],\n",
    "        [-w[1], w[0], 0]\n",
    "    ])\n",
    "    exp_wx = np.eye(3) + wx * (np.sin(theta) / theta) + (wx @ wx) * ((1 - np.cos(theta)) / np.square(theta))\n",
    "    W = C * np.eye(3) + ((A * sigma + theta * (1 - B)) / (np.square(sigma) + np.square(theta))) * (wx / theta) + (C - ((sigma * (B - 1) + A * theta) / (np.square(sigma) + np.square(theta)))) * ((wx / theta) @ (wx / theta))\n",
    "    return exp_wx, W\n",
    "\n",
    "def compute_residuals_jacobian(zi, pi, s, R, t):\n",
    "    sr = s * R[2]\n",
    "    srpi = sr @ pi\n",
    "    ri = zi - (srpi + t[2])\n",
    "    ds = -srpi\n",
    "    dw = np.cross(sr, pi)\n",
    "    dp = -sr\n",
    "    Ji = np.hstack([ds, dw, dp])\n",
    "    return ri, Ji\n",
    "\n",
    "def levenberg_marquardt(z, p, s=1.0, R=np.eye(3), t=np.zeros(3), max_iter=1000):\n",
    "    \n",
    "    mu = 0.01\n",
    "    previous_cost = float('inf')\n",
    "    \n",
    "    print('---------------------------------------------')\n",
    "    print('Starting optimization')\n",
    "    print('---------------------------------------------')\n",
    "    \n",
    "    for iteration in range(max_iter):\n",
    "        r = []\n",
    "        J = []\n",
    "        for i in range(len(z)):\n",
    "            ri, Ji = compute_residuals_jacobian(z[i], p[i], s, R, t)\n",
    "            r.append(ri)\n",
    "            J.append(Ji)\n",
    "        r = np.stack(r)\n",
    "        J = np.stack(J)\n",
    "        \n",
    "        cost = np.square(r).sum()\n",
    "        cost_change = np.abs(previous_cost - cost) / cost\n",
    "        print(f'iter: {iteration}, cost: {np.square(r).sum()}, cost change: {cost_change}')\n",
    "        \n",
    "        if cost_change < 1e-8:\n",
    "            break\n",
    "        \n",
    "        delta = -(np.linalg.inv(J.T @ J + mu * np.eye(7)) @ J.T @ r)\n",
    "        \n",
    "        exp_wx, W = compute_exp_W(delta[0], delta[1:4])\n",
    "        \n",
    "        t = s * R @ W @ delta[4:7] + t\n",
    "        s = s * np.exp(delta[0])\n",
    "        R = R @ exp_wx\n",
    "        \n",
    "        if cost < previous_cost:\n",
    "            mu *= 0.9\n",
    "        else:\n",
    "            mu *= 1.1\n",
    "        previous_cost = cost\n",
    "    \n",
    "    return s, R, t"
   ]
  },
  {
   "cell_type": "code",
   "execution_count": null,
   "id": "4a38a139-bac7-40cb-9e80-98309efe20b4",
   "metadata": {},
   "outputs": [],
   "source": [
    "p_gt = np.random.rand(40, 3)\n",
    "z_gt = p_gt[:, 2].copy() + np.random.randn(p_gt.shape[0]) / 20\n",
    "\n",
    "s_es = 0.78\n",
    "R_es, _ = compute_exp_W(1.0, np.random.rand(3)*2)\n",
    "p_es_bias = np.random.rand(3, 1)\n",
    "p_es = (s_es * R_es @ p_gt.T + p_es_bias).T\n",
    "\n",
    "cmap = matplotlib.cm.get_cmap('jet')\n",
    "colors = cmap(np.linspace(0, 1, z_gt.size))"
   ]
  },
  {
   "cell_type": "code",
   "execution_count": null,
   "id": "46400982-fdfb-4150-8b0e-0fe64c75cc2c",
   "metadata": {},
   "outputs": [],
   "source": [
    "s, R, t = levenberg_marquardt(z_gt, p_es)"
   ]
  },
  {
   "cell_type": "code",
   "execution_count": null,
   "id": "9bc20a36-a19f-4108-aaf0-728df6ebc358",
   "metadata": {},
   "outputs": [],
   "source": [
    "1/s"
   ]
  },
  {
   "cell_type": "code",
   "execution_count": null,
   "id": "a7811434-6dc0-410f-902f-f6dac6443da5",
   "metadata": {},
   "outputs": [],
   "source": [
    "%matplotlib qt\n",
    "fig = plt.figure(figsize=(12, 12))\n",
    "ax = fig.add_subplot(111, projection='3d')\n",
    "new_p = s * R @ p_es.T + t.reshape(3, 1)\n",
    "real_alt = new_p.copy()\n",
    "real_alt[2] = z_gt\n",
    "ax.scatter(*real_alt, c=colors)\n",
    "ax.scatter(*new_p, c=colors * 0.7)"
   ]
  },
  {
   "cell_type": "code",
   "execution_count": null,
   "id": "48459bd6-ba2a-4197-8f6f-d747a028f0b7",
   "metadata": {},
   "outputs": [],
   "source": []
  }
 ],
 "metadata": {
  "kernelspec": {
   "display_name": "Python 3 (ipykernel)",
   "language": "python",
   "name": "python3"
  },
  "language_info": {
   "codemirror_mode": {
    "name": "ipython",
    "version": 3
   },
   "file_extension": ".py",
   "mimetype": "text/x-python",
   "name": "python",
   "nbconvert_exporter": "python",
   "pygments_lexer": "ipython3",
   "version": "3.9.11"
  }
 },
 "nbformat": 4,
 "nbformat_minor": 5
}
